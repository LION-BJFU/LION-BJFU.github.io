{
 "cells": [
  {
   "cell_type": "code",
   "execution_count": null,
   "metadata": {},
   "outputs": [
    {
     "ename": "",
     "evalue": "",
     "output_type": "error",
     "traceback": [
      "\u001b[1;31mPython 3.10.2 64-bit 需要安装 ipykernel。\n",
      "Run the following command to install 'ipykernel' into the Python environment. \n",
      "Command: 'd:/Users/JingzhouWang/AppData/Local/Programs/Python/Python310/python.exe -m pip install ipykernel -U --user --force-reinstall'"
     ]
    }
   ],
   "source": [
    "import pulp"
   ]
  },
  {
   "cell_type": "markdown",
   "metadata": {},
   "source": []
  }
 ],
 "metadata": {
  "kernelspec": {
   "display_name": "Python 3.10.2 64-bit",
   "language": "python",
   "name": "python3"
  },
  "language_info": {
   "name": "python",
   "version": "3.10.2"
  },
  "orig_nbformat": 4,
  "vscode": {
   "interpreter": {
    "hash": "858c4060583ae671d045b6b2d40abffd32110cf54ba7a21a0a722b1eaeb1df75"
   }
  }
 },
 "nbformat": 4,
 "nbformat_minor": 2
}
